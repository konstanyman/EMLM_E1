{
 "cells": [
  {
   "cell_type": "markdown",
   "metadata": {},
   "source": [
    "# 1. Nested cross-validation exercise\n",
    "## Nested cross-validation for feature selection with nearest neighbors <br>\n",
    "- Use Python 3 to program both a hyper-parameter selection method based on 5-fold cross-validation and a nested 5-fold cross-validation for estimating the prediction performance of models inferred with this automatic selection approach. Use base learning algorithm provided in the exercise, namely the \"use_ith_feature\" method, so that the value of the hyper-parameter i is automatically selected from the range from 1 to 100 of alternative values. The provided base learning algorithm \"use_ith_feature\" is 1-nearest neighbor that uses only the ith feature of the data given to it. The 5-fold CV based hyper-parameter selection procedure is supposed to select the best feature, e.g. the value of i, based on C-index evaluated with predictions obtained with 5-fold cross-validation. A ready-made implementation of C-index is also provided in the exercise. In nested 5-fold cross-validation, a C_index value is further evaluated on the predictions obtained from an outer 5-fold cross-validation. During each round of this outer 5-fold CV, the whole feature selection process based on inner 5-fold CV is separately done and the selected feature is used for prediction for the test data points held out during that round of the outer CV. Accordingly, the actual learning algorithm, whose prediction performance will be evaluated with nested CV, is the one that automatically selects the single best feature with 5-fold cross-validation based model selection (see the lectures and the pseudo codes presented on them for more info on this interpretation).\n",
    "- Compare the C-index produced by nested 5-fold CV with the result of ordinary 5-fold CV with the best value of i e.g. the feature providing the highest 5-fold CV C-index, and show the C-index difference between the two methods.\n",
    "- Use the provided implementation of the \"use_ith_feature\" learning algorithm and C-index functions in your exercise.\n",
    "\n",
    "As a summary, for completing this exercise implement the following steps: \n",
    "_______________________________________________________________\n",
    "#### 1. Use 5-fold cross-validation for determining the optimal i-parameter for the data (X_train.csv, y_prediction.csv) from the set of possible values of i e.g. {1,...,100}. When you have found the optimal i, save the corresponding C-index (call it 5_fold_c_index) for this parameter.\n",
    "#### 2. Similarly, use nested cross-validation ( 5-fold CV both in outer and inner folds) for estimating the C-index (call it n_5_fold_c_index) of the method that selects the best feature with 5-fold approach. \n",
    "#### 3. Return both this notebook and as a PDF-file made from it in the exercise submit page. \n",
    "_______________________________________________________________\n",
    "\n",
    "Remember to use the provided learning algorithm use_ith_feature and C-index functions in your implementation! "
   ]
  },
  {
   "cell_type": "markdown",
   "metadata": {},
   "source": [
    "## Import libraries"
   ]
  },
  {
   "cell_type": "code",
   "execution_count": 428,
   "metadata": {},
   "outputs": [],
   "source": [
    "#In this cell import all libraries you need. For example: \n",
    "import pandas as pd\n",
    "import numpy as np\n",
    "from sklearn.model_selection import KFold"
   ]
  },
  {
   "cell_type": "markdown",
   "metadata": {},
   "source": [
    "## Provided functions "
   ]
  },
  {
   "cell_type": "code",
   "execution_count": 429,
   "metadata": {},
   "outputs": [],
   "source": [
    "\"\"\"\n",
    "C-index function: \n",
    "- INPUTS: \n",
    "'y' an array of the true output values\n",
    "'yp' an array of predicted output values\n",
    "- OUTPUT: \n",
    "The c-index value\n",
    "\"\"\"\n",
    "def cindex(y, yp):\n",
    "    n = 0\n",
    "    h_num = 0 \n",
    "    for i in range(0, len(y)):\n",
    "        t = y[i]\n",
    "        p = yp[i]\n",
    "        for j in range(i+1, len(y)):\n",
    "            nt = y[j]\n",
    "            np = yp[j]\n",
    "            if (t != nt): \n",
    "                n = n + 1\n",
    "                if (p < np and t < nt) or (p > np and t > nt): \n",
    "                    h_num += 1\n",
    "                elif (p == np):\n",
    "                    h_num += 0.5\n",
    "    return h_num/n\n",
    "\n",
    "\"\"\"\n",
    "Self-contained 1-nearest neighbor using only a single feature\n",
    "- INPUTS: \n",
    "'X_train' a numpy matrix of the X-features of the train data points\n",
    "'y_train' a numpy matrix of the output values of the train data points\n",
    "'X_test' a numpy matrix of the X-features of the test data points\n",
    "'i' the index of the feature to be used with 1-nearest neighbor\n",
    "- OUTPUT: \n",
    "'y_predictions' a list of the output value predictions\n",
    "\"\"\"\n",
    "def use_ith_feature(X_train, y_train, X_test, i):\n",
    "    y_predictions = []\n",
    "    for test_ind in range(0, X_test.shape[0]):\n",
    "        diff = X_test[test_ind, i] - X_train[:, i]\n",
    "        distances = np.sqrt(diff * diff)\n",
    "        sort_inds = np.array(np.argsort(distances), dtype=int)\n",
    "        y_predictions.append(y_train[sort_inds[0]])\n",
    "    return y_predictions\n"
   ]
  },
  {
   "cell_type": "markdown",
   "metadata": {},
   "source": [
    "## Your implementation here"
   ]
  },
  {
   "cell_type": "code",
   "execution_count": 430,
   "metadata": {},
   "outputs": [
    {
     "name": "stdout",
     "output_type": "stream",
     "text": [
      "The best c-index is: 1.0.\n",
      "The best i is: 18.\n",
      "\n",
      "Note that I shuffled the data before splitting it to folds\n",
      "to ensure the stratification of the data set. This changes\n",
      "the results every run. Without the shuffle the best i is 18\n",
      "with c-index 1.0\n"
     ]
    }
   ],
   "source": [
    "# In this cell implement the required tasks\n",
    "# Read the csv files, data dose not contain headers(column names).\n",
    "# Dimention of X_train.csv is (30, 100) and for y_prediction.csv is (30, 1)\n",
    "\n",
    "# read X_train\n",
    "X = pd.read_csv('X_train.csv',\n",
    "                header=None).to_numpy()\n",
    "\n",
    "# read y_prediction\n",
    "y = pd.read_csv('y_prediction.csv',\n",
    "                header=None).to_numpy()\n",
    "\n",
    "\n",
    "# kfold with shuffling\n",
    "kf_shuffle = KFold(n_splits=5, shuffle=True)\n",
    "\n",
    "# kfold without shuffling\n",
    "kf = KFold(n_splits=5, shuffle=False)\n",
    "\n",
    "\n",
    "\n",
    "### 5-fold cross-validation\n",
    "\n",
    "five_fold_c_index = 0 #set starting best c-index\n",
    "best_i = -1 #set starting i\n",
    "\n",
    "# iterate through folds\n",
    "for a, (train_index, test_index) in enumerate(kf.split(X)):\n",
    "\n",
    "    # find best i and corresponding c-index\n",
    "    for i in range(X.shape[1]):\n",
    "        y_predictions = use_ith_feature(X[train_index, :], y[train_index], X[test_index, :], i)\n",
    "        c = cindex(y[test_index], y_predictions)\n",
    "        if c > five_fold_c_index:\n",
    "            five_fold_c_index = c\n",
    "            best_i = i\n",
    "\n",
    "# print best c-index and i\n",
    "print(f\"The best c-index is: {five_fold_c_index}.\")\n",
    "print(f\"The best i is: {best_i}.\")\n",
    "\n",
    "#note\n",
    "print(\"\\nNote that I shuffled the data before splitting it to folds\\nto ensure the stratification of the data set. This changes\\nthe results every run. Without the shuffle the best i is 18\\nwith c-index 1.0\")\n"
   ]
  },
  {
   "cell_type": "code",
   "execution_count": 497,
   "metadata": {},
   "outputs": [
    {
     "name": "stdout",
     "output_type": "stream",
     "text": [
      "The best c-index is: 0.9.\n",
      "The best i is: 26.\n",
      "\n",
      "Note that I shuffled the data before splitting it to folds\n",
      "to ensure the stratification of the data set. This changes\n",
      "the results every run. Without the shuffle the best i is 76\n",
      "with c-index 0.8\n",
      "\n",
      "We can get an average c-index by running the model multiple times with shuffle on.\n",
      "Estimation of c-index from a hundred runs: 0.7246666666666667\n"
     ]
    }
   ],
   "source": [
    "### nested 5-fold cross-validation\n",
    "\n",
    "def nested_cv(X, y):\n",
    "\n",
    "    n_5_fold_c_index = 0\n",
    "    five_fold_c_index = 0 #set starting best c-index\n",
    "    inner_best_i = -1 #set starting i\n",
    "    outer_best_i = -1 #set starting overall i\n",
    "\n",
    "    # iterate through folds\n",
    "    for a, (outer_train_index, outer_test_index) in enumerate(kf_shuffle.split(X)):\n",
    "        X_train = X[outer_train_index]\n",
    "        y_train = y[outer_train_index]\n",
    "        # inner loop\n",
    "        for b, (inner_train_index, inner_test_index) in enumerate(kf.split(X_train)):\n",
    "            \n",
    "            # find best i and corresponding c-index\n",
    "            for i in range(X.shape[1]):\n",
    "                y_predictions = use_ith_feature(X_train[inner_train_index, :], y_train[inner_train_index], X_train[inner_test_index, :], i)\n",
    "                c = cindex(y_train[inner_test_index], y_predictions)\n",
    "                if c > five_fold_c_index:\n",
    "                    five_fold_c_index = c\n",
    "                    inner_best_i = i\n",
    "\n",
    "        # outer loop (using only the best i found in the inner loop we can estimate the performance of the model more reliably - without bias)\n",
    "        y_predictions = use_ith_feature(X[outer_train_index, :], y[outer_train_index], X[outer_test_index, :], inner_best_i)\n",
    "        c = cindex(y[outer_test_index], y_predictions)\n",
    "        if c > n_5_fold_c_index:\n",
    "            n_5_fold_c_index = c\n",
    "            outer_best_i = inner_best_i\n",
    "    return n_5_fold_c_index, outer_best_i\n",
    "    \n",
    "# print best c-index and i\n",
    "print(f\"The best c-index is: {nested_cv(X, y)[0]}.\")\n",
    "print(f\"The best i is: {nested_cv(X, y)[1]}.\")\n",
    "\n",
    "#note\n",
    "print(\"\\nNote that I shuffled the data before splitting it to folds\\nto ensure the stratification of the data set. This changes\\nthe results every run. Without the shuffle the best i is 76\\nwith c-index 0.8\")\n",
    "print(\"\\nWe can get an average c-index by running the model multiple times with shuffle on.\")\n",
    "\n",
    "nested_c_list = []\n",
    "for x in range(100):\n",
    "    nested_c_list.append(nested_cv(X, y)[0])\n",
    "\n",
    "average_c = np.mean(nested_c_list)\n",
    "print(f\"Estimation of c-index from a hundred runs: {average_c}\")\n"
   ]
  }
 ],
 "metadata": {
  "kernelspec": {
   "display_name": "Python 3 (ipykernel)",
   "language": "python",
   "name": "python3"
  },
  "language_info": {
   "codemirror_mode": {
    "name": "ipython",
    "version": 3
   },
   "file_extension": ".py",
   "mimetype": "text/x-python",
   "name": "python",
   "nbconvert_exporter": "python",
   "pygments_lexer": "ipython3",
   "version": "3.10.2"
  },
  "toc": {
   "base_numbering": 1,
   "nav_menu": {},
   "number_sections": false,
   "sideBar": true,
   "skip_h1_title": false,
   "title_cell": "Table of Contents",
   "title_sidebar": "Contents",
   "toc_cell": false,
   "toc_position": {},
   "toc_section_display": true,
   "toc_window_display": true
  },
  "varInspector": {
   "cols": {
    "lenName": 16,
    "lenType": 16,
    "lenVar": 40
   },
   "kernels_config": {
    "python": {
     "delete_cmd_postfix": "",
     "delete_cmd_prefix": "del ",
     "library": "var_list.py",
     "varRefreshCmd": "print(var_dic_list())"
    },
    "r": {
     "delete_cmd_postfix": ") ",
     "delete_cmd_prefix": "rm(",
     "library": "var_list.r",
     "varRefreshCmd": "cat(var_dic_list()) "
    }
   },
   "types_to_exclude": [
    "module",
    "function",
    "builtin_function_or_method",
    "instance",
    "_Feature"
   ],
   "window_display": false
  }
 },
 "nbformat": 4,
 "nbformat_minor": 2
}
